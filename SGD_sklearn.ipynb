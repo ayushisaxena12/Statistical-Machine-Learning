{
 "cells": [
  {
   "cell_type": "markdown",
   "id": "3929a47f",
   "metadata": {},
   "source": [
    "### Q4 - Scikit Learn SGD"
   ]
  },
  {
   "cell_type": "code",
   "execution_count": 36,
   "id": "74a6c2cf",
   "metadata": {},
   "outputs": [],
   "source": [
    "import pandas as pd\n",
    "import numpy as np\n",
    "import warnings\n",
    "warnings.filterwarnings(\"ignore\")\n",
    "import sklearn\n",
    "from sklearn.datasets import fetch_california_housing\n",
    "from sklearn.model_selection import train_test_split\n",
    "from sklearn import preprocessing\n",
    "from sklearn.metrics import mean_squared_error\n",
    "from sklearn.metrics import r2_score\n",
    "import matplotlib.pyplot as plt\n",
    "from sklearn.linear_model import SGDRegressor"
   ]
  },
  {
   "cell_type": "code",
   "execution_count": 37,
   "id": "c66df810",
   "metadata": {},
   "outputs": [],
   "source": [
    "#Fetching data\n",
    "X =  fetch_california_housing().data\n",
    "Y = fetch_california_housing().target"
   ]
  },
  {
   "cell_type": "code",
   "execution_count": 38,
   "id": "e8169253",
   "metadata": {},
   "outputs": [],
   "source": [
    "# split the data set into train and test\n",
    "X_train, X_test, y_train, y_test = train_test_split(X, Y, test_size=0.3, random_state=265)"
   ]
  },
  {
   "cell_type": "code",
   "execution_count": 39,
   "id": "fa6c682b",
   "metadata": {},
   "outputs": [],
   "source": [
    "#Standarization of features\n",
    "scaler = preprocessing.MinMaxScaler()\n",
    "X_train = scaler.fit_transform(X_train)\n",
    "X_test = scaler.transform(X_test)"
   ]
  },
  {
   "cell_type": "code",
   "execution_count": 40,
   "id": "50cae8a8",
   "metadata": {},
   "outputs": [],
   "source": [
    "#Converting data to dataframe\n",
    "X_train = pd.DataFrame(data = X_train, columns=fetch_california_housing().feature_names)\n",
    "X_test = pd.DataFrame(data = X_test, columns=fetch_california_housing().feature_names)"
   ]
  },
  {
   "cell_type": "code",
   "execution_count": 41,
   "id": "003677a3",
   "metadata": {},
   "outputs": [],
   "source": [
    "#Converting data to dataframe\n",
    "y_train = pd.DataFrame(data = y_train, columns=fetch_california_housing().target_names)\n",
    "y_test = pd.DataFrame(data = y_test, columns=fetch_california_housing().target_names)"
   ]
  },
  {
   "cell_type": "code",
   "execution_count": 42,
   "id": "8a065f1d",
   "metadata": {},
   "outputs": [
    {
     "data": {
      "text/plain": [
       "SGDRegressor(alpha=0.01)"
      ]
     },
     "execution_count": 42,
     "metadata": {},
     "output_type": "execute_result"
    }
   ],
   "source": [
    "#Implementing SGD regressor from sklearn library\n",
    "model = sklearn.linear_model.SGDRegressor(max_iter = 1000,alpha = 0.01, loss = 'squared_loss')\n",
    "model.fit(X_train,y_train)"
   ]
  },
  {
   "cell_type": "code",
   "execution_count": 45,
   "id": "cc35d85d",
   "metadata": {
    "scrolled": false
   },
   "outputs": [
    {
     "data": {
      "text/plain": [
       "array([ 3.82806526,  0.57162877,  0.11819538,  0.01877727,  0.02293345,\n",
       "       -0.0283441 , -1.09191481, -0.97792927])"
      ]
     },
     "execution_count": 45,
     "metadata": {},
     "output_type": "execute_result"
    }
   ],
   "source": [
    "model.coef_"
   ]
  },
  {
   "cell_type": "code",
   "execution_count": 50,
   "id": "af6d402a",
   "metadata": {},
   "outputs": [
    {
     "data": {
      "text/plain": [
       "Index(['MedInc', 'HouseAge', 'AveRooms', 'AveBedrms', 'Population', 'AveOccup',\n",
       "       'Latitude', 'Longitude'],\n",
       "      dtype='object')"
      ]
     },
     "execution_count": 50,
     "metadata": {},
     "output_type": "execute_result"
    }
   ],
   "source": [
    "X_train.columns"
   ]
  },
  {
   "cell_type": "markdown",
   "id": "7e78d645",
   "metadata": {},
   "source": [
    "#### d) Thus we see that the first two factors which have the highest weight. i.e. MedInc and HouseInc are the factors that explain house prices the most"
   ]
  },
  {
   "cell_type": "code",
   "execution_count": 46,
   "id": "70f162f3",
   "metadata": {
    "scrolled": true
   },
   "outputs": [
    {
     "data": {
      "text/plain": [
       "array([1.67109711])"
      ]
     },
     "execution_count": 46,
     "metadata": {},
     "output_type": "execute_result"
    }
   ],
   "source": [
    "model.intercept_i"
   ]
  },
  {
   "cell_type": "code",
   "execution_count": 43,
   "id": "e01cd211",
   "metadata": {},
   "outputs": [],
   "source": [
    "y_pred = model.predict(X_test)"
   ]
  },
  {
   "cell_type": "code",
   "execution_count": 52,
   "id": "9d3b3955",
   "metadata": {},
   "outputs": [
    {
     "name": "stdout",
     "output_type": "stream",
     "text": [
      "Accuracy on training Data: 0.48509438942902017\n",
      "Mean squared Error is: 0.69341125783517\n",
      "R2 on test Data: 0.4735915183786509\n"
     ]
    }
   ],
   "source": [
    "print(\"Accuracy on training Data:\", model.score(X_train,y_train))\n",
    "print(\"Mean squared Error is:\", mean_squared_error(y_test,y_pred))\n",
    "print(\"R2 on test Data:\", r2_score(y_test,y_pred))"
   ]
  },
  {
   "cell_type": "markdown",
   "id": "56b30d11",
   "metadata": {},
   "source": [
    "####  e) The results will vary because the scikit learn SGD regressor used L2 regularization to apply penalty to reduce the loss function and find optimum weights and biases. Also in the Stochastic Gradient Descent there is an element of randomness and the weights are update on part of the data in each iteration. Once we observe weights of fitted model we can say that features such as MedInc , HouseAge contribute higher variance towards the house prices, which matches with our SGD model giving evidence that model performance is very similar."
   ]
  },
  {
   "cell_type": "code",
   "execution_count": null,
   "id": "1e502278",
   "metadata": {},
   "outputs": [],
   "source": []
  }
 ],
 "metadata": {
  "kernelspec": {
   "display_name": "Python 3 (ipykernel)",
   "language": "python",
   "name": "python3"
  },
  "language_info": {
   "codemirror_mode": {
    "name": "ipython",
    "version": 3
   },
   "file_extension": ".py",
   "mimetype": "text/x-python",
   "name": "python",
   "nbconvert_exporter": "python",
   "pygments_lexer": "ipython3",
   "version": "3.8.8"
  }
 },
 "nbformat": 4,
 "nbformat_minor": 5
}
