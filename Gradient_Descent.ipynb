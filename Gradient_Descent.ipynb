{
 "cells": [
  {
   "cell_type": "markdown",
   "metadata": {
    "id": "Qi8dklm0CzQX"
   },
   "source": [
    "## Q3 - Custom Gradient Descent"
   ]
  },
  {
   "cell_type": "code",
   "execution_count": 141,
   "metadata": {
    "id": "QaE4Qd4QVSm7"
   },
   "outputs": [],
   "source": [
    "import numpy as np\n",
    "import pandas as pd\n",
    "from sklearn import *\n",
    "import sklearn\n",
    "import matplotlib.pyplot as plt\n",
    "from sklearn.model_selection import train_test_split\n",
    "from sklearn.datasets import fetch_california_housing\n",
    "from sklearn.preprocessing import StandardScaler\n",
    "from sklearn.preprocessing import MinMaxScaler\n",
    "\n",
    "cal_house=fetch_california_housing(as_frame=True)"
   ]
  },
  {
   "cell_type": "code",
   "execution_count": 162,
   "metadata": {
    "id": "X3H355ZFvfuI"
   },
   "outputs": [],
   "source": [
    "cal_house_df=cal_house.frame"
   ]
  },
  {
   "cell_type": "code",
   "execution_count": 163,
   "metadata": {
    "colab": {
     "base_uri": "https://localhost:8080/",
     "height": 424
    },
    "id": "_BZwApIrvn-r",
    "outputId": "f487557b-e45c-4410-f13d-6b43da0b0288"
   },
   "outputs": [
    {
     "data": {
      "text/html": [
       "\n",
       "  <div id=\"df-ac327e1a-d4e2-4c00-8319-78b66048da54\">\n",
       "    <div class=\"colab-df-container\">\n",
       "      <div>\n",
       "<style scoped>\n",
       "    .dataframe tbody tr th:only-of-type {\n",
       "        vertical-align: middle;\n",
       "    }\n",
       "\n",
       "    .dataframe tbody tr th {\n",
       "        vertical-align: top;\n",
       "    }\n",
       "\n",
       "    .dataframe thead th {\n",
       "        text-align: right;\n",
       "    }\n",
       "</style>\n",
       "<table border=\"1\" class=\"dataframe\">\n",
       "  <thead>\n",
       "    <tr style=\"text-align: right;\">\n",
       "      <th></th>\n",
       "      <th>MedInc</th>\n",
       "      <th>HouseAge</th>\n",
       "      <th>AveRooms</th>\n",
       "      <th>AveBedrms</th>\n",
       "      <th>Population</th>\n",
       "      <th>AveOccup</th>\n",
       "      <th>Latitude</th>\n",
       "      <th>Longitude</th>\n",
       "      <th>MedHouseVal</th>\n",
       "    </tr>\n",
       "  </thead>\n",
       "  <tbody>\n",
       "    <tr>\n",
       "      <th>0</th>\n",
       "      <td>8.3252</td>\n",
       "      <td>41.0</td>\n",
       "      <td>6.984127</td>\n",
       "      <td>1.023810</td>\n",
       "      <td>322.0</td>\n",
       "      <td>2.555556</td>\n",
       "      <td>37.88</td>\n",
       "      <td>-122.23</td>\n",
       "      <td>4.526</td>\n",
       "    </tr>\n",
       "    <tr>\n",
       "      <th>1</th>\n",
       "      <td>8.3014</td>\n",
       "      <td>21.0</td>\n",
       "      <td>6.238137</td>\n",
       "      <td>0.971880</td>\n",
       "      <td>2401.0</td>\n",
       "      <td>2.109842</td>\n",
       "      <td>37.86</td>\n",
       "      <td>-122.22</td>\n",
       "      <td>3.585</td>\n",
       "    </tr>\n",
       "    <tr>\n",
       "      <th>2</th>\n",
       "      <td>7.2574</td>\n",
       "      <td>52.0</td>\n",
       "      <td>8.288136</td>\n",
       "      <td>1.073446</td>\n",
       "      <td>496.0</td>\n",
       "      <td>2.802260</td>\n",
       "      <td>37.85</td>\n",
       "      <td>-122.24</td>\n",
       "      <td>3.521</td>\n",
       "    </tr>\n",
       "    <tr>\n",
       "      <th>3</th>\n",
       "      <td>5.6431</td>\n",
       "      <td>52.0</td>\n",
       "      <td>5.817352</td>\n",
       "      <td>1.073059</td>\n",
       "      <td>558.0</td>\n",
       "      <td>2.547945</td>\n",
       "      <td>37.85</td>\n",
       "      <td>-122.25</td>\n",
       "      <td>3.413</td>\n",
       "    </tr>\n",
       "    <tr>\n",
       "      <th>4</th>\n",
       "      <td>3.8462</td>\n",
       "      <td>52.0</td>\n",
       "      <td>6.281853</td>\n",
       "      <td>1.081081</td>\n",
       "      <td>565.0</td>\n",
       "      <td>2.181467</td>\n",
       "      <td>37.85</td>\n",
       "      <td>-122.25</td>\n",
       "      <td>3.422</td>\n",
       "    </tr>\n",
       "    <tr>\n",
       "      <th>...</th>\n",
       "      <td>...</td>\n",
       "      <td>...</td>\n",
       "      <td>...</td>\n",
       "      <td>...</td>\n",
       "      <td>...</td>\n",
       "      <td>...</td>\n",
       "      <td>...</td>\n",
       "      <td>...</td>\n",
       "      <td>...</td>\n",
       "    </tr>\n",
       "    <tr>\n",
       "      <th>20635</th>\n",
       "      <td>1.5603</td>\n",
       "      <td>25.0</td>\n",
       "      <td>5.045455</td>\n",
       "      <td>1.133333</td>\n",
       "      <td>845.0</td>\n",
       "      <td>2.560606</td>\n",
       "      <td>39.48</td>\n",
       "      <td>-121.09</td>\n",
       "      <td>0.781</td>\n",
       "    </tr>\n",
       "    <tr>\n",
       "      <th>20636</th>\n",
       "      <td>2.5568</td>\n",
       "      <td>18.0</td>\n",
       "      <td>6.114035</td>\n",
       "      <td>1.315789</td>\n",
       "      <td>356.0</td>\n",
       "      <td>3.122807</td>\n",
       "      <td>39.49</td>\n",
       "      <td>-121.21</td>\n",
       "      <td>0.771</td>\n",
       "    </tr>\n",
       "    <tr>\n",
       "      <th>20637</th>\n",
       "      <td>1.7000</td>\n",
       "      <td>17.0</td>\n",
       "      <td>5.205543</td>\n",
       "      <td>1.120092</td>\n",
       "      <td>1007.0</td>\n",
       "      <td>2.325635</td>\n",
       "      <td>39.43</td>\n",
       "      <td>-121.22</td>\n",
       "      <td>0.923</td>\n",
       "    </tr>\n",
       "    <tr>\n",
       "      <th>20638</th>\n",
       "      <td>1.8672</td>\n",
       "      <td>18.0</td>\n",
       "      <td>5.329513</td>\n",
       "      <td>1.171920</td>\n",
       "      <td>741.0</td>\n",
       "      <td>2.123209</td>\n",
       "      <td>39.43</td>\n",
       "      <td>-121.32</td>\n",
       "      <td>0.847</td>\n",
       "    </tr>\n",
       "    <tr>\n",
       "      <th>20639</th>\n",
       "      <td>2.3886</td>\n",
       "      <td>16.0</td>\n",
       "      <td>5.254717</td>\n",
       "      <td>1.162264</td>\n",
       "      <td>1387.0</td>\n",
       "      <td>2.616981</td>\n",
       "      <td>39.37</td>\n",
       "      <td>-121.24</td>\n",
       "      <td>0.894</td>\n",
       "    </tr>\n",
       "  </tbody>\n",
       "</table>\n",
       "<p>20640 rows × 9 columns</p>\n",
       "</div>\n",
       "      <button class=\"colab-df-convert\" onclick=\"convertToInteractive('df-ac327e1a-d4e2-4c00-8319-78b66048da54')\"\n",
       "              title=\"Convert this dataframe to an interactive table.\"\n",
       "              style=\"display:none;\">\n",
       "        \n",
       "  <svg xmlns=\"http://www.w3.org/2000/svg\" height=\"24px\"viewBox=\"0 0 24 24\"\n",
       "       width=\"24px\">\n",
       "    <path d=\"M0 0h24v24H0V0z\" fill=\"none\"/>\n",
       "    <path d=\"M18.56 5.44l.94 2.06.94-2.06 2.06-.94-2.06-.94-.94-2.06-.94 2.06-2.06.94zm-11 1L8.5 8.5l.94-2.06 2.06-.94-2.06-.94L8.5 2.5l-.94 2.06-2.06.94zm10 10l.94 2.06.94-2.06 2.06-.94-2.06-.94-.94-2.06-.94 2.06-2.06.94z\"/><path d=\"M17.41 7.96l-1.37-1.37c-.4-.4-.92-.59-1.43-.59-.52 0-1.04.2-1.43.59L10.3 9.45l-7.72 7.72c-.78.78-.78 2.05 0 2.83L4 21.41c.39.39.9.59 1.41.59.51 0 1.02-.2 1.41-.59l7.78-7.78 2.81-2.81c.8-.78.8-2.07 0-2.86zM5.41 20L4 18.59l7.72-7.72 1.47 1.35L5.41 20z\"/>\n",
       "  </svg>\n",
       "      </button>\n",
       "      \n",
       "  <style>\n",
       "    .colab-df-container {\n",
       "      display:flex;\n",
       "      flex-wrap:wrap;\n",
       "      gap: 12px;\n",
       "    }\n",
       "\n",
       "    .colab-df-convert {\n",
       "      background-color: #E8F0FE;\n",
       "      border: none;\n",
       "      border-radius: 50%;\n",
       "      cursor: pointer;\n",
       "      display: none;\n",
       "      fill: #1967D2;\n",
       "      height: 32px;\n",
       "      padding: 0 0 0 0;\n",
       "      width: 32px;\n",
       "    }\n",
       "\n",
       "    .colab-df-convert:hover {\n",
       "      background-color: #E2EBFA;\n",
       "      box-shadow: 0px 1px 2px rgba(60, 64, 67, 0.3), 0px 1px 3px 1px rgba(60, 64, 67, 0.15);\n",
       "      fill: #174EA6;\n",
       "    }\n",
       "\n",
       "    [theme=dark] .colab-df-convert {\n",
       "      background-color: #3B4455;\n",
       "      fill: #D2E3FC;\n",
       "    }\n",
       "\n",
       "    [theme=dark] .colab-df-convert:hover {\n",
       "      background-color: #434B5C;\n",
       "      box-shadow: 0px 1px 3px 1px rgba(0, 0, 0, 0.15);\n",
       "      filter: drop-shadow(0px 1px 2px rgba(0, 0, 0, 0.3));\n",
       "      fill: #FFFFFF;\n",
       "    }\n",
       "  </style>\n",
       "\n",
       "      <script>\n",
       "        const buttonEl =\n",
       "          document.querySelector('#df-ac327e1a-d4e2-4c00-8319-78b66048da54 button.colab-df-convert');\n",
       "        buttonEl.style.display =\n",
       "          google.colab.kernel.accessAllowed ? 'block' : 'none';\n",
       "\n",
       "        async function convertToInteractive(key) {\n",
       "          const element = document.querySelector('#df-ac327e1a-d4e2-4c00-8319-78b66048da54');\n",
       "          const dataTable =\n",
       "            await google.colab.kernel.invokeFunction('convertToInteractive',\n",
       "                                                     [key], {});\n",
       "          if (!dataTable) return;\n",
       "\n",
       "          const docLinkHtml = 'Like what you see? Visit the ' +\n",
       "            '<a target=\"_blank\" href=https://colab.research.google.com/notebooks/data_table.ipynb>data table notebook</a>'\n",
       "            + ' to learn more about interactive tables.';\n",
       "          element.innerHTML = '';\n",
       "          dataTable['output_type'] = 'display_data';\n",
       "          await google.colab.output.renderOutput(dataTable, element);\n",
       "          const docLink = document.createElement('div');\n",
       "          docLink.innerHTML = docLinkHtml;\n",
       "          element.appendChild(docLink);\n",
       "        }\n",
       "      </script>\n",
       "    </div>\n",
       "  </div>\n",
       "  "
      ],
      "text/plain": [
       "       MedInc  HouseAge  AveRooms  ...  Latitude  Longitude  MedHouseVal\n",
       "0      8.3252      41.0  6.984127  ...     37.88    -122.23        4.526\n",
       "1      8.3014      21.0  6.238137  ...     37.86    -122.22        3.585\n",
       "2      7.2574      52.0  8.288136  ...     37.85    -122.24        3.521\n",
       "3      5.6431      52.0  5.817352  ...     37.85    -122.25        3.413\n",
       "4      3.8462      52.0  6.281853  ...     37.85    -122.25        3.422\n",
       "...       ...       ...       ...  ...       ...        ...          ...\n",
       "20635  1.5603      25.0  5.045455  ...     39.48    -121.09        0.781\n",
       "20636  2.5568      18.0  6.114035  ...     39.49    -121.21        0.771\n",
       "20637  1.7000      17.0  5.205543  ...     39.43    -121.22        0.923\n",
       "20638  1.8672      18.0  5.329513  ...     39.43    -121.32        0.847\n",
       "20639  2.3886      16.0  5.254717  ...     39.37    -121.24        0.894\n",
       "\n",
       "[20640 rows x 9 columns]"
      ]
     },
     "execution_count": 163,
     "metadata": {},
     "output_type": "execute_result"
    }
   ],
   "source": [
    "cal_house_df"
   ]
  },
  {
   "cell_type": "code",
   "execution_count": 164,
   "metadata": {
    "id": "6M54bNSDxOGJ"
   },
   "outputs": [],
   "source": [
    "\n",
    "\n",
    "X=cal_house_df.iloc[:,:-1]\n",
    "Y=cal_house_df.iloc[:,-1]\n",
    "\n",
    "# Normalizing the features using MinMax Scaler\n",
    "sc=MinMaxScaler()\n",
    "X=sc.fit_transform(X)\n",
    "\n",
    "\n",
    "\n",
    "# Performing the train test split\n",
    "\n",
    "xtrain, xtest, ytrain, ytest = train_test_split(X,Y,test_size=0.3, random_state=265)"
   ]
  },
  {
   "cell_type": "code",
   "execution_count": 187,
   "metadata": {
    "id": "8nEhI1SxyOW1"
   },
   "outputs": [],
   "source": [
    "def cost_func(x,y,w,b):\n",
    "  y_hat=x.dot(w)+b\n",
    "  cost= np.sum((y-y_hat)**2/(2*len(y)))\n",
    "\n",
    "  return cost\n",
    "\n",
    "\n",
    "def LR_SGD(x,y,w,b,alpha,epochs):\n",
    "\n",
    "  cost_list=np.zeros(epochs)\n",
    "\n",
    "  iteration=0\n",
    "\n",
    "  while iteration < epochs:\n",
    "    cost_list[iteration]=cost_func(x,y,w,b)\n",
    "\n",
    "    y_hat=x.dot(w)+b\n",
    "    w_gradient=np.array(x).T.dot(y_hat - y)/len(y)\n",
    "    b_gradient= np.sum(y_hat - y) / len(y)\n",
    "\n",
    "    w=w - alpha*w_gradient\n",
    "    b=b - alpha*b_gradient\n",
    "\n",
    "    iteration+=1\n",
    "  \n",
    "  return w,b,cost_list\n"
   ]
  },
  {
   "cell_type": "code",
   "execution_count": 191,
   "metadata": {
    "colab": {
     "base_uri": "https://localhost:8080/",
     "height": 282
    },
    "id": "8H1S3DKTBrTd",
    "outputId": "12361181-ff86-45b1-ef97-33be7aafa329"
   },
   "outputs": [
    {
     "data": {
      "text/plain": [
       "[<matplotlib.lines.Line2D at 0x7f2041ab7450>]"
      ]
     },
     "execution_count": 191,
     "metadata": {},
     "output_type": "execute_result"
    },
    {
     "data": {
      "image/png": "[encoded data removed]",
      "text/plain": [
       "<Figure size 432x288 with 1 Axes>"
      ]
     },
     "metadata": {
      "needs_background": "light"
     },
     "output_type": "display_data"
    }
   ],
   "source": [
    "## Running the Gradient Descent function for 1000 iterations and 0.01 learning rate\n",
    "\n",
    "parameters, constant, cost_list=LR_SGD(xtrain, ytrain, np.zeros(xtrain.shape[1]),0,0.01,1000)\n",
    "\n",
    "plt.plot(cost_list)"
   ]
  },
  {
   "cell_type": "markdown",
   "metadata": {
    "id": "0VNxhl8hBhEw"
   },
   "source": [
    "### Final MSE after 1000 iterations on training data"
   ]
  },
  {
   "cell_type": "code",
   "execution_count": 190,
   "metadata": {
    "colab": {
     "base_uri": "https://localhost:8080/"
    },
    "id": "heyNuqKbAUQY",
    "outputId": "f581cbfb-7bf9-4578-b808-949526c2cdcb"
   },
   "outputs": [
    {
     "data": {
      "text/plain": [
       "0.5510468649429558"
      ]
     },
     "execution_count": 190,
     "metadata": {},
     "output_type": "execute_result"
    }
   ],
   "source": [
    "cost_list[999]"
   ]
  },
  {
   "cell_type": "markdown",
   "metadata": {
    "id": "e4cNyuoFB3bt"
   },
   "source": [
    "### g) Parameters which give lowest MSE"
   ]
  },
  {
   "cell_type": "code",
   "execution_count": 167,
   "metadata": {
    "colab": {
     "base_uri": "https://localhost:8080/"
    },
    "id": "jcGTuS8Dj6g_",
    "outputId": "7f923f29-3cdb-4d46-a198-a94b93852959"
   },
   "outputs": [
    {
     "data": {
      "text/plain": [
       "[1.232148071100124,\n",
       " 0.6306597561349819,\n",
       " 0.06879554535220726,\n",
       " 0.02176001232307622,\n",
       " 0.050100912161522265,\n",
       " -0.0005110809558964187,\n",
       " 0.11583731760608401,\n",
       " 0.40728025046974525]"
      ]
     },
     "execution_count": 167,
     "metadata": {},
     "output_type": "execute_result"
    }
   ],
   "source": [
    "list(parameters)"
   ]
  },
  {
   "cell_type": "code",
   "execution_count": 198,
   "metadata": {
    "colab": {
     "base_uri": "https://localhost:8080/"
    },
    "id": "aMhny4-6GfXR",
    "outputId": "540f6082-1e48-4ee9-fae9-c4ce5115f64a"
   },
   "outputs": [
    {
     "data": {
      "text/plain": [
       "1.2032648466815945"
      ]
     },
     "execution_count": 198,
     "metadata": {},
     "output_type": "execute_result"
    }
   ],
   "source": [
    "constant"
   ]
  },
  {
   "cell_type": "markdown",
   "metadata": {
    "id": "LamLnB20AeNv"
   },
   "source": [
    "### h) Thus we see that the first two factors which have the highest weight. i.e. MedInc and HouseInc are the factors that explain house prices the most"
   ]
  },
  {
   "cell_type": "code",
   "execution_count": 184,
   "metadata": {
    "id": "Vb9LQyUNw6VW"
   },
   "outputs": [],
   "source": [
    "\n",
    "\n",
    "def prediction(X,w,b):\n",
    "  return X.dot(w) + b\n",
    "\n",
    "y_prediction=prediction(xtest,parameters,constant)"
   ]
  },
  {
   "cell_type": "markdown",
   "metadata": {
    "id": "7uqoJdS4FpVF"
   },
   "source": [
    "### MSE of Test Data"
   ]
  },
  {
   "cell_type": "code",
   "execution_count": 197,
   "metadata": {
    "colab": {
     "base_uri": "https://localhost:8080/"
    },
    "id": "pybNxewfEpgi",
    "outputId": "43e52f4d-1f7c-4dd1-ceca-8a7920cc34ee"
   },
   "outputs": [
    {
     "data": {
      "text/plain": [
       "0.5447397692968704"
      ]
     },
     "execution_count": 197,
     "metadata": {},
     "output_type": "execute_result"
    }
   ],
   "source": [
    "def MSE(y_pred,y):\n",
    "  mse=np.sum((y_prediction-y)**2/(2*len(y)))\n",
    "\n",
    "  return mse\n",
    "\n",
    "MSE(y_prediction,ytest)"
   ]
  },
  {
   "cell_type": "markdown",
   "metadata": {
    "id": "MxxC2akYF86b"
   },
   "source": [
    "### R2 Score on Test Data"
   ]
  },
  {
   "cell_type": "code",
   "execution_count": 185,
   "metadata": {
    "id": "NdEipWtuyjzW"
   },
   "outputs": [],
   "source": [
    "def r2(y_prediction,y):\n",
    "\n",
    "  rss=np.sum((y_prediction-y)**2)\n",
    "\n",
    "  tss=np.sum((y - y.mean())**2)\n",
    "\n",
    "  r2= 1 - (rss/tss)\n",
    "\n",
    "  return r2\n",
    "\n",
    "r2_score=r2(y_prediction,ytest)"
   ]
  },
  {
   "cell_type": "code",
   "execution_count": 186,
   "metadata": {
    "colab": {
     "base_uri": "https://localhost:8080/"
    },
    "id": "kS8N0Gq_z2Xw",
    "outputId": "f75665a7-85ee-4d81-8220-de914ab68d79"
   },
   "outputs": [
    {
     "data": {
      "text/plain": [
       "0.17291324132930674"
      ]
     },
     "execution_count": 186,
     "metadata": {},
     "output_type": "execute_result"
    }
   ],
   "source": [
    "r2_score"
   ]
  }
 ],
 "metadata": {
  "colab": {
   "collapsed_sections": [],
   "name": "Gradient Descent.ipynb",
   "provenance": []
  },
  "kernelspec": {
   "display_name": "Python 3 (ipykernel)",
   "language": "python",
   "name": "python3"
  },
  "language_info": {
   "codemirror_mode": {
    "name": "ipython",
    "version": 3
   },
   "file_extension": ".py",
   "mimetype": "text/x-python",
   "name": "python",
   "nbconvert_exporter": "python",
   "pygments_lexer": "ipython3",
   "version": "3.8.8"
  }
 },
 "nbformat": 4,
 "nbformat_minor": 1
}
