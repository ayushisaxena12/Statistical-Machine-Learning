{
 "cells": [
  {
   "cell_type": "markdown",
   "id": "44bf34ba",
   "metadata": {},
   "source": [
    "### Variance Covariance Matrix"
   ]
  },
  {
   "cell_type": "code",
   "execution_count": 38,
   "id": "302de22b",
   "metadata": {},
   "outputs": [],
   "source": [
    "import pandas as pd\n",
    "import numpy as np\n",
    "from sklearn.datasets import fetch_california_housing"
   ]
  },
  {
   "cell_type": "code",
   "execution_count": 39,
   "id": "0d93b86d",
   "metadata": {},
   "outputs": [],
   "source": [
    "X =  fetch_california_housing().data\n",
    "Y = fetch_california_housing().target\n",
    "X = pd.DataFrame(data = X, columns=fetch_california_housing().feature_names)\n",
    "X['Price'] = list(Y)\n",
    "X1 = X.values"
   ]
  },
  {
   "cell_type": "code",
   "execution_count": 40,
   "id": "0d4e6fef",
   "metadata": {},
   "outputs": [],
   "source": [
    "def calc_cov(X):\n",
    "    m,n = X.shape\n",
    "    cov = np.zeros((n,n))\n",
    "    for i in range(n):\n",
    "        #Mean of column i\n",
    "        mean_i = np.sum(X[:,i])/m\n",
    "\n",
    "        for j in range(n):\n",
    "            #Mean of column j\n",
    "            mean_j = np.sum(X[:,j])/m\n",
    "\n",
    "            #Covariance of i,j\n",
    "            cov[i,j] = np.sum((X[:,i]-mean_i)*(X[:,j]-mean_j))/(m-1)\n",
    "    return cov"
   ]
  },
  {
   "cell_type": "code",
   "execution_count": 41,
   "id": "47fa29db",
   "metadata": {},
   "outputs": [],
   "source": [
    "cov = calc_cov(X1)"
   ]
  },
  {
   "cell_type": "code",
   "execution_count": 43,
   "id": "7251e462",
   "metadata": {},
   "outputs": [
    {
     "name": "stdout",
     "output_type": "stream",
     "text": [
      "           A            B           C          D             E           F  \\\n",
      "0   3.609323    -2.846140    1.536568  -0.055858  1.040098e+01    0.370289   \n",
      "1  -2.846140   158.396260   -4.772882  -0.463718 -4.222271e+03    1.724298   \n",
      "2   1.536568    -4.772882    6.121533   0.993868 -2.023337e+02   -0.124689   \n",
      "3  -0.055858    -0.463718    0.993868   0.224592 -3.552723e+01   -0.030424   \n",
      "4  10.400979 -4222.270582 -202.333712 -35.527225  1.282470e+06  821.712002   \n",
      "5   0.370289     1.724298   -0.124689  -0.030424  8.217120e+02  107.870026   \n",
      "6  -0.323860     0.300346    0.562235   0.070575 -2.631378e+02    0.052492   \n",
      "7  -0.057765    -2.728244   -0.136518   0.012670  2.263778e+02    0.051519   \n",
      "8   1.508475     1.533988    0.433826  -0.025539 -3.221249e+01   -0.284494   \n",
      "\n",
      "            G           H          I  \n",
      "0   -0.323860   -0.057765   1.508475  \n",
      "1    0.300346   -2.728244   1.533988  \n",
      "2    0.562235   -0.136518   0.433826  \n",
      "3    0.070575    0.012670  -0.025539  \n",
      "4 -263.137814  226.377839 -32.212487  \n",
      "5    0.052492    0.051519  -0.284494  \n",
      "6    4.562293   -3.957054  -0.355326  \n",
      "7   -3.957054    4.014139  -0.106274  \n",
      "8   -0.355326   -0.106274   1.331615  \n"
     ]
    }
   ],
   "source": [
    "df = pd.DataFrame(cov, columns = ['A','B','C','D','E','F','G','H','I'])\n",
    "print(df)"
   ]
  },
  {
   "cell_type": "code",
   "execution_count": 44,
   "id": "a89fce39",
   "metadata": {},
   "outputs": [
    {
     "name": "stdout",
     "output_type": "stream",
     "text": [
      "Difference between numpy covariance matrix and custom covariance matrix: 0.000000000699255\n"
     ]
    }
   ],
   "source": [
    "#Verification with numpy covariance matrix\n",
    "np_covar = np.cov(X1, rowvar=False)\n",
    "print(\"Difference between numpy covariance matrix and custom covariance matrix: {:.15f}\".format(np.sum(np.abs(cov-np_covar))))"
   ]
  },
  {
   "cell_type": "code",
   "execution_count": 45,
   "id": "b8cdf568",
   "metadata": {},
   "outputs": [
    {
     "name": "stdout",
     "output_type": "stream",
     "text": [
      "Difference between numpy covariance matrix and custom covariance matrix: 0.000000000699255\n"
     ]
    }
   ],
   "source": [
    "#Verification with pandas covariance matrix\n",
    "pd_covar = X.cov().values\n",
    "print(\"Difference between numpy covariance matrix and custom covariance matrix: {:.15f}\".format(np.sum(np.abs(cov-pd_covar))))"
   ]
  },
  {
   "cell_type": "markdown",
   "id": "2ed4e00d",
   "metadata": {},
   "source": [
    "#### The result of custom covariance matrix conform with the numpy and pandas covariance matrix."
   ]
  }
 ],
 "metadata": {
  "kernelspec": {
   "display_name": "Python 3 (ipykernel)",
   "language": "python",
   "name": "python3"
  },
  "language_info": {
   "codemirror_mode": {
    "name": "ipython",
    "version": 3
   },
   "file_extension": ".py",
   "mimetype": "text/x-python",
   "name": "python",
   "nbconvert_exporter": "python",
   "pygments_lexer": "ipython3",
   "version": "3.8.8"
  }
 },
 "nbformat": 4,
 "nbformat_minor": 5
}
